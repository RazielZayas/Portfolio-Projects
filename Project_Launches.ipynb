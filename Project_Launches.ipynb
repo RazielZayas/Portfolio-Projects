{
 "cells": [
  {
   "cell_type": "code",
   "execution_count": 1,
   "metadata": {},
   "outputs": [],
   "source": [
    "import pandas as pd\n",
    "import seaborn as sns\n",
    "from sqlalchemy import engine\n",
    "from pandasql import sqldf\n",
    "import matplotlib.pyplot as plt\n",
    "import numpy as np\n",
    "\n",
    "#Funcion lambda que hace escribir funciones en SQL mucho mas facil\n",
    "pysqldf = lambda q: sqldf(q, globals())"
   ]
  },
  {
   "cell_type": "code",
   "execution_count": 3,
   "metadata": {},
   "outputs": [],
   "source": [
    "df = pd.read_csv(\"mission_launches.csv\")"
   ]
  },
  {
   "cell_type": "code",
   "execution_count": 4,
   "metadata": {},
   "outputs": [
    {
     "data": {
      "text/html": [
       "<div>\n",
       "<style scoped>\n",
       "    .dataframe tbody tr th:only-of-type {\n",
       "        vertical-align: middle;\n",
       "    }\n",
       "\n",
       "    .dataframe tbody tr th {\n",
       "        vertical-align: top;\n",
       "    }\n",
       "\n",
       "    .dataframe thead th {\n",
       "        text-align: right;\n",
       "    }\n",
       "</style>\n",
       "<table border=\"1\" class=\"dataframe\">\n",
       "  <thead>\n",
       "    <tr style=\"text-align: right;\">\n",
       "      <th></th>\n",
       "      <th>Unnamed: 0.1</th>\n",
       "      <th>Unnamed: 0</th>\n",
       "      <th>Organisation</th>\n",
       "      <th>Location</th>\n",
       "      <th>Date</th>\n",
       "      <th>Detail</th>\n",
       "      <th>Rocket_Status</th>\n",
       "      <th>Price</th>\n",
       "      <th>Mission_Status</th>\n",
       "    </tr>\n",
       "  </thead>\n",
       "  <tbody>\n",
       "    <tr>\n",
       "      <th>0</th>\n",
       "      <td>0</td>\n",
       "      <td>0</td>\n",
       "      <td>SpaceX</td>\n",
       "      <td>LC-39A, Kennedy Space Center, Florida, USA</td>\n",
       "      <td>Fri Aug 07, 2020 05:12 UTC</td>\n",
       "      <td>Falcon 9 Block 5 | Starlink V1 L9 &amp; BlackSky</td>\n",
       "      <td>StatusActive</td>\n",
       "      <td>50.0</td>\n",
       "      <td>Success</td>\n",
       "    </tr>\n",
       "    <tr>\n",
       "      <th>1</th>\n",
       "      <td>1</td>\n",
       "      <td>1</td>\n",
       "      <td>CASC</td>\n",
       "      <td>Site 9401 (SLS-2), Jiuquan Satellite Launch Ce...</td>\n",
       "      <td>Thu Aug 06, 2020 04:01 UTC</td>\n",
       "      <td>Long March 2D | Gaofen-9 04 &amp; Q-SAT</td>\n",
       "      <td>StatusActive</td>\n",
       "      <td>29.75</td>\n",
       "      <td>Success</td>\n",
       "    </tr>\n",
       "    <tr>\n",
       "      <th>2</th>\n",
       "      <td>2</td>\n",
       "      <td>2</td>\n",
       "      <td>SpaceX</td>\n",
       "      <td>Pad A, Boca Chica, Texas, USA</td>\n",
       "      <td>Tue Aug 04, 2020 23:57 UTC</td>\n",
       "      <td>Starship Prototype | 150 Meter Hop</td>\n",
       "      <td>StatusActive</td>\n",
       "      <td>NaN</td>\n",
       "      <td>Success</td>\n",
       "    </tr>\n",
       "    <tr>\n",
       "      <th>3</th>\n",
       "      <td>3</td>\n",
       "      <td>3</td>\n",
       "      <td>Roscosmos</td>\n",
       "      <td>Site 200/39, Baikonur Cosmodrome, Kazakhstan</td>\n",
       "      <td>Thu Jul 30, 2020 21:25 UTC</td>\n",
       "      <td>Proton-M/Briz-M | Ekspress-80 &amp; Ekspress-103</td>\n",
       "      <td>StatusActive</td>\n",
       "      <td>65.0</td>\n",
       "      <td>Success</td>\n",
       "    </tr>\n",
       "    <tr>\n",
       "      <th>4</th>\n",
       "      <td>4</td>\n",
       "      <td>4</td>\n",
       "      <td>ULA</td>\n",
       "      <td>SLC-41, Cape Canaveral AFS, Florida, USA</td>\n",
       "      <td>Thu Jul 30, 2020 11:50 UTC</td>\n",
       "      <td>Atlas V 541 | Perseverance</td>\n",
       "      <td>StatusActive</td>\n",
       "      <td>145.0</td>\n",
       "      <td>Success</td>\n",
       "    </tr>\n",
       "    <tr>\n",
       "      <th>...</th>\n",
       "      <td>...</td>\n",
       "      <td>...</td>\n",
       "      <td>...</td>\n",
       "      <td>...</td>\n",
       "      <td>...</td>\n",
       "      <td>...</td>\n",
       "      <td>...</td>\n",
       "      <td>...</td>\n",
       "      <td>...</td>\n",
       "    </tr>\n",
       "    <tr>\n",
       "      <th>4319</th>\n",
       "      <td>4319</td>\n",
       "      <td>4319</td>\n",
       "      <td>US Navy</td>\n",
       "      <td>LC-18A, Cape Canaveral AFS, Florida, USA</td>\n",
       "      <td>Wed Feb 05, 1958 07:33 UTC</td>\n",
       "      <td>Vanguard | Vanguard TV3BU</td>\n",
       "      <td>StatusRetired</td>\n",
       "      <td>NaN</td>\n",
       "      <td>Failure</td>\n",
       "    </tr>\n",
       "    <tr>\n",
       "      <th>4320</th>\n",
       "      <td>4320</td>\n",
       "      <td>4320</td>\n",
       "      <td>AMBA</td>\n",
       "      <td>LC-26A, Cape Canaveral AFS, Florida, USA</td>\n",
       "      <td>Sat Feb 01, 1958 03:48 UTC</td>\n",
       "      <td>Juno I | Explorer 1</td>\n",
       "      <td>StatusRetired</td>\n",
       "      <td>NaN</td>\n",
       "      <td>Success</td>\n",
       "    </tr>\n",
       "    <tr>\n",
       "      <th>4321</th>\n",
       "      <td>4321</td>\n",
       "      <td>4321</td>\n",
       "      <td>US Navy</td>\n",
       "      <td>LC-18A, Cape Canaveral AFS, Florida, USA</td>\n",
       "      <td>Fri Dec 06, 1957 16:44 UTC</td>\n",
       "      <td>Vanguard | Vanguard TV3</td>\n",
       "      <td>StatusRetired</td>\n",
       "      <td>NaN</td>\n",
       "      <td>Failure</td>\n",
       "    </tr>\n",
       "    <tr>\n",
       "      <th>4322</th>\n",
       "      <td>4322</td>\n",
       "      <td>4322</td>\n",
       "      <td>RVSN USSR</td>\n",
       "      <td>Site 1/5, Baikonur Cosmodrome, Kazakhstan</td>\n",
       "      <td>Sun Nov 03, 1957 02:30 UTC</td>\n",
       "      <td>Sputnik 8K71PS | Sputnik-2</td>\n",
       "      <td>StatusRetired</td>\n",
       "      <td>NaN</td>\n",
       "      <td>Success</td>\n",
       "    </tr>\n",
       "    <tr>\n",
       "      <th>4323</th>\n",
       "      <td>4323</td>\n",
       "      <td>4323</td>\n",
       "      <td>RVSN USSR</td>\n",
       "      <td>Site 1/5, Baikonur Cosmodrome, Kazakhstan</td>\n",
       "      <td>Fri Oct 04, 1957 19:28 UTC</td>\n",
       "      <td>Sputnik 8K71PS | Sputnik-1</td>\n",
       "      <td>StatusRetired</td>\n",
       "      <td>NaN</td>\n",
       "      <td>Success</td>\n",
       "    </tr>\n",
       "  </tbody>\n",
       "</table>\n",
       "<p>4324 rows × 9 columns</p>\n",
       "</div>"
      ],
      "text/plain": [
       "      Unnamed: 0.1  Unnamed: 0 Organisation  \\\n",
       "0                0           0       SpaceX   \n",
       "1                1           1         CASC   \n",
       "2                2           2       SpaceX   \n",
       "3                3           3    Roscosmos   \n",
       "4                4           4          ULA   \n",
       "...            ...         ...          ...   \n",
       "4319          4319        4319      US Navy   \n",
       "4320          4320        4320         AMBA   \n",
       "4321          4321        4321      US Navy   \n",
       "4322          4322        4322    RVSN USSR   \n",
       "4323          4323        4323    RVSN USSR   \n",
       "\n",
       "                                               Location  \\\n",
       "0            LC-39A, Kennedy Space Center, Florida, USA   \n",
       "1     Site 9401 (SLS-2), Jiuquan Satellite Launch Ce...   \n",
       "2                         Pad A, Boca Chica, Texas, USA   \n",
       "3          Site 200/39, Baikonur Cosmodrome, Kazakhstan   \n",
       "4              SLC-41, Cape Canaveral AFS, Florida, USA   \n",
       "...                                                 ...   \n",
       "4319           LC-18A, Cape Canaveral AFS, Florida, USA   \n",
       "4320           LC-26A, Cape Canaveral AFS, Florida, USA   \n",
       "4321           LC-18A, Cape Canaveral AFS, Florida, USA   \n",
       "4322          Site 1/5, Baikonur Cosmodrome, Kazakhstan   \n",
       "4323          Site 1/5, Baikonur Cosmodrome, Kazakhstan   \n",
       "\n",
       "                            Date  \\\n",
       "0     Fri Aug 07, 2020 05:12 UTC   \n",
       "1     Thu Aug 06, 2020 04:01 UTC   \n",
       "2     Tue Aug 04, 2020 23:57 UTC   \n",
       "3     Thu Jul 30, 2020 21:25 UTC   \n",
       "4     Thu Jul 30, 2020 11:50 UTC   \n",
       "...                          ...   \n",
       "4319  Wed Feb 05, 1958 07:33 UTC   \n",
       "4320  Sat Feb 01, 1958 03:48 UTC   \n",
       "4321  Fri Dec 06, 1957 16:44 UTC   \n",
       "4322  Sun Nov 03, 1957 02:30 UTC   \n",
       "4323  Fri Oct 04, 1957 19:28 UTC   \n",
       "\n",
       "                                            Detail  Rocket_Status  Price  \\\n",
       "0     Falcon 9 Block 5 | Starlink V1 L9 & BlackSky   StatusActive   50.0   \n",
       "1              Long March 2D | Gaofen-9 04 & Q-SAT   StatusActive  29.75   \n",
       "2               Starship Prototype | 150 Meter Hop   StatusActive    NaN   \n",
       "3     Proton-M/Briz-M | Ekspress-80 & Ekspress-103   StatusActive   65.0   \n",
       "4                       Atlas V 541 | Perseverance   StatusActive  145.0   \n",
       "...                                            ...            ...    ...   \n",
       "4319                     Vanguard | Vanguard TV3BU  StatusRetired    NaN   \n",
       "4320                           Juno I | Explorer 1  StatusRetired    NaN   \n",
       "4321                       Vanguard | Vanguard TV3  StatusRetired    NaN   \n",
       "4322                    Sputnik 8K71PS | Sputnik-2  StatusRetired    NaN   \n",
       "4323                    Sputnik 8K71PS | Sputnik-1  StatusRetired    NaN   \n",
       "\n",
       "     Mission_Status  \n",
       "0           Success  \n",
       "1           Success  \n",
       "2           Success  \n",
       "3           Success  \n",
       "4           Success  \n",
       "...             ...  \n",
       "4319        Failure  \n",
       "4320        Success  \n",
       "4321        Failure  \n",
       "4322        Success  \n",
       "4323        Success  \n",
       "\n",
       "[4324 rows x 9 columns]"
      ]
     },
     "execution_count": 4,
     "metadata": {},
     "output_type": "execute_result"
    }
   ],
   "source": [
    "df"
   ]
  },
  {
   "cell_type": "code",
   "execution_count": 6,
   "metadata": {},
   "outputs": [
    {
     "data": {
      "text/plain": [
       "(4324, 9)"
      ]
     },
     "execution_count": 6,
     "metadata": {},
     "output_type": "execute_result"
    }
   ],
   "source": [
    "df.shape"
   ]
  },
  {
   "cell_type": "code",
   "execution_count": 8,
   "metadata": {},
   "outputs": [
    {
     "data": {
      "text/html": [
       "<div>\n",
       "<style scoped>\n",
       "    .dataframe tbody tr th:only-of-type {\n",
       "        vertical-align: middle;\n",
       "    }\n",
       "\n",
       "    .dataframe tbody tr th {\n",
       "        vertical-align: top;\n",
       "    }\n",
       "\n",
       "    .dataframe thead th {\n",
       "        text-align: right;\n",
       "    }\n",
       "</style>\n",
       "<table border=\"1\" class=\"dataframe\">\n",
       "  <thead>\n",
       "    <tr style=\"text-align: right;\">\n",
       "      <th></th>\n",
       "      <th>Unnamed: 0.1</th>\n",
       "      <th>Unnamed: 0</th>\n",
       "      <th>Organisation</th>\n",
       "      <th>Location</th>\n",
       "      <th>Date</th>\n",
       "      <th>Detail</th>\n",
       "      <th>Rocket_Status</th>\n",
       "      <th>Price</th>\n",
       "      <th>Mission_Status</th>\n",
       "    </tr>\n",
       "  </thead>\n",
       "  <tbody>\n",
       "    <tr>\n",
       "      <th>0</th>\n",
       "      <td>0</td>\n",
       "      <td>0</td>\n",
       "      <td>SpaceX</td>\n",
       "      <td>LC-39A, Kennedy Space Center, Florida, USA</td>\n",
       "      <td>Fri Aug 07, 2020 05:12 UTC</td>\n",
       "      <td>Falcon 9 Block 5 | Starlink V1 L9 &amp; BlackSky</td>\n",
       "      <td>StatusActive</td>\n",
       "      <td>50.0</td>\n",
       "      <td>Success</td>\n",
       "    </tr>\n",
       "    <tr>\n",
       "      <th>1</th>\n",
       "      <td>1</td>\n",
       "      <td>1</td>\n",
       "      <td>CASC</td>\n",
       "      <td>Site 9401 (SLS-2), Jiuquan Satellite Launch Ce...</td>\n",
       "      <td>Thu Aug 06, 2020 04:01 UTC</td>\n",
       "      <td>Long March 2D | Gaofen-9 04 &amp; Q-SAT</td>\n",
       "      <td>StatusActive</td>\n",
       "      <td>29.75</td>\n",
       "      <td>Success</td>\n",
       "    </tr>\n",
       "    <tr>\n",
       "      <th>2</th>\n",
       "      <td>2</td>\n",
       "      <td>2</td>\n",
       "      <td>SpaceX</td>\n",
       "      <td>Pad A, Boca Chica, Texas, USA</td>\n",
       "      <td>Tue Aug 04, 2020 23:57 UTC</td>\n",
       "      <td>Starship Prototype | 150 Meter Hop</td>\n",
       "      <td>StatusActive</td>\n",
       "      <td>NaN</td>\n",
       "      <td>Success</td>\n",
       "    </tr>\n",
       "    <tr>\n",
       "      <th>3</th>\n",
       "      <td>3</td>\n",
       "      <td>3</td>\n",
       "      <td>Roscosmos</td>\n",
       "      <td>Site 200/39, Baikonur Cosmodrome, Kazakhstan</td>\n",
       "      <td>Thu Jul 30, 2020 21:25 UTC</td>\n",
       "      <td>Proton-M/Briz-M | Ekspress-80 &amp; Ekspress-103</td>\n",
       "      <td>StatusActive</td>\n",
       "      <td>65.0</td>\n",
       "      <td>Success</td>\n",
       "    </tr>\n",
       "    <tr>\n",
       "      <th>4</th>\n",
       "      <td>4</td>\n",
       "      <td>4</td>\n",
       "      <td>ULA</td>\n",
       "      <td>SLC-41, Cape Canaveral AFS, Florida, USA</td>\n",
       "      <td>Thu Jul 30, 2020 11:50 UTC</td>\n",
       "      <td>Atlas V 541 | Perseverance</td>\n",
       "      <td>StatusActive</td>\n",
       "      <td>145.0</td>\n",
       "      <td>Success</td>\n",
       "    </tr>\n",
       "  </tbody>\n",
       "</table>\n",
       "</div>"
      ],
      "text/plain": [
       "   Unnamed: 0.1  Unnamed: 0 Organisation  \\\n",
       "0             0           0       SpaceX   \n",
       "1             1           1         CASC   \n",
       "2             2           2       SpaceX   \n",
       "3             3           3    Roscosmos   \n",
       "4             4           4          ULA   \n",
       "\n",
       "                                            Location  \\\n",
       "0         LC-39A, Kennedy Space Center, Florida, USA   \n",
       "1  Site 9401 (SLS-2), Jiuquan Satellite Launch Ce...   \n",
       "2                      Pad A, Boca Chica, Texas, USA   \n",
       "3       Site 200/39, Baikonur Cosmodrome, Kazakhstan   \n",
       "4           SLC-41, Cape Canaveral AFS, Florida, USA   \n",
       "\n",
       "                         Date                                        Detail  \\\n",
       "0  Fri Aug 07, 2020 05:12 UTC  Falcon 9 Block 5 | Starlink V1 L9 & BlackSky   \n",
       "1  Thu Aug 06, 2020 04:01 UTC           Long March 2D | Gaofen-9 04 & Q-SAT   \n",
       "2  Tue Aug 04, 2020 23:57 UTC            Starship Prototype | 150 Meter Hop   \n",
       "3  Thu Jul 30, 2020 21:25 UTC  Proton-M/Briz-M | Ekspress-80 & Ekspress-103   \n",
       "4  Thu Jul 30, 2020 11:50 UTC                    Atlas V 541 | Perseverance   \n",
       "\n",
       "  Rocket_Status  Price Mission_Status  \n",
       "0  StatusActive   50.0        Success  \n",
       "1  StatusActive  29.75        Success  \n",
       "2  StatusActive    NaN        Success  \n",
       "3  StatusActive   65.0        Success  \n",
       "4  StatusActive  145.0        Success  "
      ]
     },
     "execution_count": 8,
     "metadata": {},
     "output_type": "execute_result"
    }
   ],
   "source": [
    "df.head()"
   ]
  },
  {
   "cell_type": "code",
   "execution_count": 9,
   "metadata": {},
   "outputs": [
    {
     "data": {
      "text/html": [
       "<div>\n",
       "<style scoped>\n",
       "    .dataframe tbody tr th:only-of-type {\n",
       "        vertical-align: middle;\n",
       "    }\n",
       "\n",
       "    .dataframe tbody tr th {\n",
       "        vertical-align: top;\n",
       "    }\n",
       "\n",
       "    .dataframe thead th {\n",
       "        text-align: right;\n",
       "    }\n",
       "</style>\n",
       "<table border=\"1\" class=\"dataframe\">\n",
       "  <thead>\n",
       "    <tr style=\"text-align: right;\">\n",
       "      <th></th>\n",
       "      <th>Unnamed: 0.1</th>\n",
       "      <th>Unnamed: 0</th>\n",
       "    </tr>\n",
       "  </thead>\n",
       "  <tbody>\n",
       "    <tr>\n",
       "      <th>count</th>\n",
       "      <td>4324.000000</td>\n",
       "      <td>4324.000000</td>\n",
       "    </tr>\n",
       "    <tr>\n",
       "      <th>mean</th>\n",
       "      <td>2161.500000</td>\n",
       "      <td>2161.500000</td>\n",
       "    </tr>\n",
       "    <tr>\n",
       "      <th>std</th>\n",
       "      <td>1248.375611</td>\n",
       "      <td>1248.375611</td>\n",
       "    </tr>\n",
       "    <tr>\n",
       "      <th>min</th>\n",
       "      <td>0.000000</td>\n",
       "      <td>0.000000</td>\n",
       "    </tr>\n",
       "    <tr>\n",
       "      <th>25%</th>\n",
       "      <td>1080.750000</td>\n",
       "      <td>1080.750000</td>\n",
       "    </tr>\n",
       "    <tr>\n",
       "      <th>50%</th>\n",
       "      <td>2161.500000</td>\n",
       "      <td>2161.500000</td>\n",
       "    </tr>\n",
       "    <tr>\n",
       "      <th>75%</th>\n",
       "      <td>3242.250000</td>\n",
       "      <td>3242.250000</td>\n",
       "    </tr>\n",
       "    <tr>\n",
       "      <th>max</th>\n",
       "      <td>4323.000000</td>\n",
       "      <td>4323.000000</td>\n",
       "    </tr>\n",
       "  </tbody>\n",
       "</table>\n",
       "</div>"
      ],
      "text/plain": [
       "       Unnamed: 0.1   Unnamed: 0\n",
       "count   4324.000000  4324.000000\n",
       "mean    2161.500000  2161.500000\n",
       "std     1248.375611  1248.375611\n",
       "min        0.000000     0.000000\n",
       "25%     1080.750000  1080.750000\n",
       "50%     2161.500000  2161.500000\n",
       "75%     3242.250000  3242.250000\n",
       "max     4323.000000  4323.000000"
      ]
     },
     "execution_count": 9,
     "metadata": {},
     "output_type": "execute_result"
    }
   ],
   "source": [
    "df.describe()"
   ]
  },
  {
   "cell_type": "code",
   "execution_count": 10,
   "metadata": {},
   "outputs": [
    {
     "name": "stdout",
     "output_type": "stream",
     "text": [
      "<class 'pandas.core.frame.DataFrame'>\n",
      "RangeIndex: 4324 entries, 0 to 4323\n",
      "Data columns (total 9 columns):\n",
      " #   Column          Non-Null Count  Dtype \n",
      "---  ------          --------------  ----- \n",
      " 0   Unnamed: 0.1    4324 non-null   int64 \n",
      " 1   Unnamed: 0      4324 non-null   int64 \n",
      " 2   Organisation    4324 non-null   object\n",
      " 3   Location        4324 non-null   object\n",
      " 4   Date            4324 non-null   object\n",
      " 5   Detail          4324 non-null   object\n",
      " 6   Rocket_Status   4324 non-null   object\n",
      " 7   Price           964 non-null    object\n",
      " 8   Mission_Status  4324 non-null   object\n",
      "dtypes: int64(2), object(7)\n",
      "memory usage: 304.2+ KB\n"
     ]
    }
   ],
   "source": [
    "df.info()"
   ]
  },
  {
   "cell_type": "code",
   "execution_count": 12,
   "metadata": {},
   "outputs": [],
   "source": [
    "df.drop(df.columns[:2], axis=1, inplace=True)"
   ]
  },
  {
   "cell_type": "code",
   "execution_count": 13,
   "metadata": {},
   "outputs": [
    {
     "data": {
      "text/plain": [
       "Organisation         0\n",
       "Location             0\n",
       "Date                 0\n",
       "Detail               0\n",
       "Rocket_Status        0\n",
       "Price             3360\n",
       "Mission_Status       0\n",
       "dtype: int64"
      ]
     },
     "execution_count": 13,
     "metadata": {},
     "output_type": "execute_result"
    }
   ],
   "source": [
    "df.isna().sum()"
   ]
  },
  {
   "cell_type": "code",
   "execution_count": 14,
   "metadata": {},
   "outputs": [
    {
     "data": {
      "text/plain": [
       "0     50.0\n",
       "1    29.75\n",
       "2      NaN\n",
       "3     65.0\n",
       "4    145.0\n",
       "Name: Price, dtype: object"
      ]
     },
     "execution_count": 14,
     "metadata": {},
     "output_type": "execute_result"
    }
   ],
   "source": [
    "df['Price'].head()"
   ]
  },
  {
   "cell_type": "code",
   "execution_count": 15,
   "metadata": {},
   "outputs": [],
   "source": [
    "df['Price'] = df['Price'].str.replace(',','').astype(float)"
   ]
  },
  {
   "cell_type": "code",
   "execution_count": 17,
   "metadata": {},
   "outputs": [],
   "source": [
    "df['Price'] = df['Price'].fillna(df['Price'].mean())"
   ]
  },
  {
   "cell_type": "code",
   "execution_count": 18,
   "metadata": {},
   "outputs": [],
   "source": [
    "df['Price'] = round(df['Price'], 2)"
   ]
  },
  {
   "cell_type": "code",
   "execution_count": 19,
   "metadata": {},
   "outputs": [],
   "source": [
    "df['Date'] = pd.to_datetime(df['Date'], utc=True, errors='coerce')"
   ]
  },
  {
   "cell_type": "code",
   "execution_count": 20,
   "metadata": {},
   "outputs": [
    {
     "data": {
      "text/html": [
       "<div>\n",
       "<style scoped>\n",
       "    .dataframe tbody tr th:only-of-type {\n",
       "        vertical-align: middle;\n",
       "    }\n",
       "\n",
       "    .dataframe tbody tr th {\n",
       "        vertical-align: top;\n",
       "    }\n",
       "\n",
       "    .dataframe thead th {\n",
       "        text-align: right;\n",
       "    }\n",
       "</style>\n",
       "<table border=\"1\" class=\"dataframe\">\n",
       "  <thead>\n",
       "    <tr style=\"text-align: right;\">\n",
       "      <th></th>\n",
       "      <th>Organisation</th>\n",
       "      <th>Location</th>\n",
       "      <th>Date</th>\n",
       "      <th>Detail</th>\n",
       "      <th>Rocket_Status</th>\n",
       "      <th>Price</th>\n",
       "      <th>Mission_Status</th>\n",
       "    </tr>\n",
       "  </thead>\n",
       "  <tbody>\n",
       "    <tr>\n",
       "      <th>0</th>\n",
       "      <td>SpaceX</td>\n",
       "      <td>LC-39A, Kennedy Space Center, Florida, USA</td>\n",
       "      <td>2020-08-07 05:12:00+00:00</td>\n",
       "      <td>Falcon 9 Block 5 | Starlink V1 L9 &amp; BlackSky</td>\n",
       "      <td>StatusActive</td>\n",
       "      <td>50.00</td>\n",
       "      <td>Success</td>\n",
       "    </tr>\n",
       "    <tr>\n",
       "      <th>1</th>\n",
       "      <td>CASC</td>\n",
       "      <td>Site 9401 (SLS-2), Jiuquan Satellite Launch Ce...</td>\n",
       "      <td>2020-08-06 04:01:00+00:00</td>\n",
       "      <td>Long March 2D | Gaofen-9 04 &amp; Q-SAT</td>\n",
       "      <td>StatusActive</td>\n",
       "      <td>29.75</td>\n",
       "      <td>Success</td>\n",
       "    </tr>\n",
       "    <tr>\n",
       "      <th>2</th>\n",
       "      <td>SpaceX</td>\n",
       "      <td>Pad A, Boca Chica, Texas, USA</td>\n",
       "      <td>2020-08-04 23:57:00+00:00</td>\n",
       "      <td>Starship Prototype | 150 Meter Hop</td>\n",
       "      <td>StatusActive</td>\n",
       "      <td>153.79</td>\n",
       "      <td>Success</td>\n",
       "    </tr>\n",
       "    <tr>\n",
       "      <th>3</th>\n",
       "      <td>Roscosmos</td>\n",
       "      <td>Site 200/39, Baikonur Cosmodrome, Kazakhstan</td>\n",
       "      <td>2020-07-30 21:25:00+00:00</td>\n",
       "      <td>Proton-M/Briz-M | Ekspress-80 &amp; Ekspress-103</td>\n",
       "      <td>StatusActive</td>\n",
       "      <td>65.00</td>\n",
       "      <td>Success</td>\n",
       "    </tr>\n",
       "    <tr>\n",
       "      <th>4</th>\n",
       "      <td>ULA</td>\n",
       "      <td>SLC-41, Cape Canaveral AFS, Florida, USA</td>\n",
       "      <td>2020-07-30 11:50:00+00:00</td>\n",
       "      <td>Atlas V 541 | Perseverance</td>\n",
       "      <td>StatusActive</td>\n",
       "      <td>145.00</td>\n",
       "      <td>Success</td>\n",
       "    </tr>\n",
       "  </tbody>\n",
       "</table>\n",
       "</div>"
      ],
      "text/plain": [
       "  Organisation                                           Location  \\\n",
       "0       SpaceX         LC-39A, Kennedy Space Center, Florida, USA   \n",
       "1         CASC  Site 9401 (SLS-2), Jiuquan Satellite Launch Ce...   \n",
       "2       SpaceX                      Pad A, Boca Chica, Texas, USA   \n",
       "3    Roscosmos       Site 200/39, Baikonur Cosmodrome, Kazakhstan   \n",
       "4          ULA           SLC-41, Cape Canaveral AFS, Florida, USA   \n",
       "\n",
       "                       Date                                        Detail  \\\n",
       "0 2020-08-07 05:12:00+00:00  Falcon 9 Block 5 | Starlink V1 L9 & BlackSky   \n",
       "1 2020-08-06 04:01:00+00:00           Long March 2D | Gaofen-9 04 & Q-SAT   \n",
       "2 2020-08-04 23:57:00+00:00            Starship Prototype | 150 Meter Hop   \n",
       "3 2020-07-30 21:25:00+00:00  Proton-M/Briz-M | Ekspress-80 & Ekspress-103   \n",
       "4 2020-07-30 11:50:00+00:00                    Atlas V 541 | Perseverance   \n",
       "\n",
       "  Rocket_Status   Price Mission_Status  \n",
       "0  StatusActive   50.00        Success  \n",
       "1  StatusActive   29.75        Success  \n",
       "2  StatusActive  153.79        Success  \n",
       "3  StatusActive   65.00        Success  \n",
       "4  StatusActive  145.00        Success  "
      ]
     },
     "execution_count": 20,
     "metadata": {},
     "output_type": "execute_result"
    }
   ],
   "source": [
    "df.head()"
   ]
  },
  {
   "cell_type": "code",
   "execution_count": 21,
   "metadata": {},
   "outputs": [],
   "source": [
    "# ¿Qué organización lanzó más misiones espaciales en un año determinado?\n",
    "df['Year'] = df['Date'].dt.year\n",
    "df['Year'] = df['Year'].astype('Int64')"
   ]
  },
  {
   "cell_type": "code",
   "execution_count": 22,
   "metadata": {},
   "outputs": [
    {
     "data": {
      "text/plain": [
       "Organisation        0\n",
       "Location            0\n",
       "Date              126\n",
       "Detail              0\n",
       "Rocket_Status       0\n",
       "Price               0\n",
       "Mission_Status      0\n",
       "Year              126\n",
       "dtype: int64"
      ]
     },
     "execution_count": 22,
     "metadata": {},
     "output_type": "execute_result"
    }
   ],
   "source": [
    "\n",
    "df.isna().sum()"
   ]
  },
  {
   "cell_type": "code",
   "execution_count": 23,
   "metadata": {},
   "outputs": [],
   "source": [
    "df.dropna(inplace=True)"
   ]
  },
  {
   "cell_type": "code",
   "execution_count": 24,
   "metadata": {},
   "outputs": [],
   "source": [
    "def MostLaunchesPerYear(year):\n",
    "    f_Data = df[df['Year'] == year]\n",
    "    df_Missions = f_Data.groupby(['Year','Organisation']).size().reset_index(name='Mission_Count')\n",
    "    Max_Missions = df_Missions['Mission_Count'].max()\n",
    "    Organisation = df_Missions['Organisation'][df_Missions['Mission_Count'] == Max_Missions].values[0]\n",
    "\n",
    "    return f\"La organización que lanzó más misiones en {year} fue {Organisation} con {Max_Missions} misiones.\""
   ]
  },
  {
   "cell_type": "code",
   "execution_count": 25,
   "metadata": {},
   "outputs": [
    {
     "name": "stdout",
     "output_type": "stream",
     "text": [
      "La organización que lanzó más misiones en 2020 fue CASC con 19 misiones.\n"
     ]
    }
   ],
   "source": [
    "print(MostLaunchesPerYear(2020))"
   ]
  },
  {
   "cell_type": "code",
   "execution_count": 26,
   "metadata": {},
   "outputs": [
    {
     "data": {
      "text/html": [
       "<div>\n",
       "<style scoped>\n",
       "    .dataframe tbody tr th:only-of-type {\n",
       "        vertical-align: middle;\n",
       "    }\n",
       "\n",
       "    .dataframe tbody tr th {\n",
       "        vertical-align: top;\n",
       "    }\n",
       "\n",
       "    .dataframe thead th {\n",
       "        text-align: right;\n",
       "    }\n",
       "</style>\n",
       "<table border=\"1\" class=\"dataframe\">\n",
       "  <thead>\n",
       "    <tr style=\"text-align: right;\">\n",
       "      <th></th>\n",
       "      <th>Year</th>\n",
       "      <th>N_Launches</th>\n",
       "    </tr>\n",
       "  </thead>\n",
       "  <tbody>\n",
       "    <tr>\n",
       "      <th>0</th>\n",
       "      <td>1957</td>\n",
       "      <td>3</td>\n",
       "    </tr>\n",
       "    <tr>\n",
       "      <th>1</th>\n",
       "      <td>1958</td>\n",
       "      <td>22</td>\n",
       "    </tr>\n",
       "    <tr>\n",
       "      <th>2</th>\n",
       "      <td>1959</td>\n",
       "      <td>20</td>\n",
       "    </tr>\n",
       "    <tr>\n",
       "      <th>3</th>\n",
       "      <td>1960</td>\n",
       "      <td>38</td>\n",
       "    </tr>\n",
       "    <tr>\n",
       "      <th>4</th>\n",
       "      <td>1961</td>\n",
       "      <td>52</td>\n",
       "    </tr>\n",
       "    <tr>\n",
       "      <th>...</th>\n",
       "      <td>...</td>\n",
       "      <td>...</td>\n",
       "    </tr>\n",
       "    <tr>\n",
       "      <th>59</th>\n",
       "      <td>2016</td>\n",
       "      <td>88</td>\n",
       "    </tr>\n",
       "    <tr>\n",
       "      <th>60</th>\n",
       "      <td>2017</td>\n",
       "      <td>90</td>\n",
       "    </tr>\n",
       "    <tr>\n",
       "      <th>61</th>\n",
       "      <td>2018</td>\n",
       "      <td>117</td>\n",
       "    </tr>\n",
       "    <tr>\n",
       "      <th>62</th>\n",
       "      <td>2019</td>\n",
       "      <td>107</td>\n",
       "    </tr>\n",
       "    <tr>\n",
       "      <th>63</th>\n",
       "      <td>2020</td>\n",
       "      <td>63</td>\n",
       "    </tr>\n",
       "  </tbody>\n",
       "</table>\n",
       "<p>64 rows × 2 columns</p>\n",
       "</div>"
      ],
      "text/plain": [
       "    Year  N_Launches\n",
       "0   1957           3\n",
       "1   1958          22\n",
       "2   1959          20\n",
       "3   1960          38\n",
       "4   1961          52\n",
       "..   ...         ...\n",
       "59  2016          88\n",
       "60  2017          90\n",
       "61  2018         117\n",
       "62  2019         107\n",
       "63  2020          63\n",
       "\n",
       "[64 rows x 2 columns]"
      ]
     },
     "execution_count": 26,
     "metadata": {},
     "output_type": "execute_result"
    }
   ],
   "source": [
    "# ¿Cuántos lanzamientos se realizaron por año? \n",
    "launches_per_year = df.groupby('Year').size().reset_index(name='N_Launches')\n",
    "launches_per_year['Year'] = launches_per_year['Year'].astype('Int64')\n",
    "launches_per_year"
   ]
  },
  {
   "cell_type": "code",
   "execution_count": 27,
   "metadata": {},
   "outputs": [
    {
     "data": {
      "image/png": "[encoded data removed]",
      "text/plain": [
       "<Figure size 3000x600 with 1 Axes>"
      ]
     },
     "metadata": {},
     "output_type": "display_data"
    }
   ],
   "source": [
    "plt.figure(figsize=(30, 6))\n",
    "plt.bar(launches_per_year['Year'], launches_per_year['N_Launches'])\n",
    "plt.show()"
   ]
  },
  {
   "cell_type": "code",
   "execution_count": 28,
   "metadata": {},
   "outputs": [
    {
     "data": {
      "text/html": [
       "<div>\n",
       "<style scoped>\n",
       "    .dataframe tbody tr th:only-of-type {\n",
       "        vertical-align: middle;\n",
       "    }\n",
       "\n",
       "    .dataframe tbody tr th {\n",
       "        vertical-align: top;\n",
       "    }\n",
       "\n",
       "    .dataframe thead th {\n",
       "        text-align: right;\n",
       "    }\n",
       "</style>\n",
       "<table border=\"1\" class=\"dataframe\">\n",
       "  <thead>\n",
       "    <tr style=\"text-align: right;\">\n",
       "      <th></th>\n",
       "      <th>Mean_Price</th>\n",
       "    </tr>\n",
       "    <tr>\n",
       "      <th>Year</th>\n",
       "      <th></th>\n",
       "    </tr>\n",
       "  </thead>\n",
       "  <tbody>\n",
       "    <tr>\n",
       "      <th>1957</th>\n",
       "      <td>153.79</td>\n",
       "    </tr>\n",
       "    <tr>\n",
       "      <th>1958</th>\n",
       "      <td>153.79</td>\n",
       "    </tr>\n",
       "    <tr>\n",
       "      <th>1959</th>\n",
       "      <td>153.79</td>\n",
       "    </tr>\n",
       "    <tr>\n",
       "      <th>1960</th>\n",
       "      <td>153.79</td>\n",
       "    </tr>\n",
       "    <tr>\n",
       "      <th>1961</th>\n",
       "      <td>153.79</td>\n",
       "    </tr>\n",
       "    <tr>\n",
       "      <th>...</th>\n",
       "      <td>...</td>\n",
       "    </tr>\n",
       "    <tr>\n",
       "      <th>2016</th>\n",
       "      <td>99.73</td>\n",
       "    </tr>\n",
       "    <tr>\n",
       "      <th>2017</th>\n",
       "      <td>91.97</td>\n",
       "    </tr>\n",
       "    <tr>\n",
       "      <th>2018</th>\n",
       "      <td>86.82</td>\n",
       "    </tr>\n",
       "    <tr>\n",
       "      <th>2019</th>\n",
       "      <td>89.54</td>\n",
       "    </tr>\n",
       "    <tr>\n",
       "      <th>2020</th>\n",
       "      <td>73.61</td>\n",
       "    </tr>\n",
       "  </tbody>\n",
       "</table>\n",
       "<p>64 rows × 1 columns</p>\n",
       "</div>"
      ],
      "text/plain": [
       "      Mean_Price\n",
       "Year            \n",
       "1957      153.79\n",
       "1958      153.79\n",
       "1959      153.79\n",
       "1960      153.79\n",
       "1961      153.79\n",
       "...          ...\n",
       "2016       99.73\n",
       "2017       91.97\n",
       "2018       86.82\n",
       "2019       89.54\n",
       "2020       73.61\n",
       "\n",
       "[64 rows x 1 columns]"
      ]
     },
     "execution_count": 28,
     "metadata": {},
     "output_type": "execute_result"
    }
   ],
   "source": [
    "# ¿Cómo ha variado el costo de una misión espacial a lo largo del tiempo?\n",
    "mean_price = df.groupby('Year').agg({'Price': ['mean']})\n",
    "\n",
    "mean_price.columns = ['Mean_Price']\n",
    "\n",
    "mean_price['Mean_Price'] = round(mean_price['Mean_Price'],2)\n",
    "mean_price"
   ]
  },
  {
   "cell_type": "code",
   "execution_count": 29,
   "metadata": {},
   "outputs": [
    {
     "data": {
      "image/png": "[encoded data removed]",
      "text/plain": [
       "<Figure size 640x480 with 1 Axes>"
      ]
     },
     "metadata": {},
     "output_type": "display_data"
    }
   ],
   "source": [
    "plt.plot(mean_price.index, mean_price.values)\n",
    "plt.show()"
   ]
  },
  {
   "cell_type": "code",
   "execution_count": 30,
   "metadata": {},
   "outputs": [],
   "source": [
    "# ¿Qué meses son los más populares para los lanzamientos? \n",
    "df['Month'] = df['Date'].dt.month_name()"
   ]
  },
  {
   "cell_type": "code",
   "execution_count": 31,
   "metadata": {},
   "outputs": [],
   "source": [
    "top_months = df.groupby('Month').size().sort_values(ascending=False).head(3)"
   ]
  },
  {
   "cell_type": "code",
   "execution_count": 32,
   "metadata": {},
   "outputs": [
    {
     "data": {
      "text/plain": [
       "Month\n",
       "December    430\n",
       "June        386\n",
       "October     375\n",
       "dtype: int64"
      ]
     },
     "execution_count": 32,
     "metadata": {},
     "output_type": "execute_result"
    }
   ],
   "source": [
    "top_months"
   ]
  },
  {
   "cell_type": "code",
   "execution_count": 33,
   "metadata": {},
   "outputs": [
    {
     "data": {
      "image/png": "[encoded data removed]",
      "text/plain": [
       "<Figure size 1300x500 with 1 Axes>"
      ]
     },
     "metadata": {},
     "output_type": "display_data"
    }
   ],
   "source": [
    "fig, ax = plt.subplots(figsize=(13,5))\n",
    "plt.bar(top_months.index, top_months.values)\n",
    "plt.title('Most popular months for launches')\n",
    "plt.show()"
   ]
  },
  {
   "cell_type": "code",
   "execution_count": 50,
   "metadata": {},
   "outputs": [],
   "source": [
    "# ¿Se han vuelto más seguras las misiones espaciales o las posibilidades de fracaso se han mantenido sin cambios?\n"
   ]
  },
  {
   "cell_type": "code",
   "execution_count": 49,
   "metadata": {},
   "outputs": [
    {
     "data": {
      "image/png": "[encoded data removed]",
      "text/plain": [
       "<Figure size 800x800 with 1 Axes>"
      ]
     },
     "metadata": {},
     "output_type": "display_data"
    }
   ],
   "source": [
    "plt.figure(figsize = (8,8))\n",
    "\n",
    "plt.pie(df['Mission_Status'].value_counts(),autopct='%i%%',labels=df['Mission_Status'].value_counts().index, explode=[0,1,1,1],shadow=True)\n",
    "plt.title('Mission-Status')\n",
    "plt.legend()\n",
    "\n",
    "plt.show()"
   ]
  },
  {
   "cell_type": "code",
   "execution_count": null,
   "metadata": {},
   "outputs": [],
   "source": []
  },
  {
   "cell_type": "code",
   "execution_count": 45,
   "metadata": {},
   "outputs": [
    {
     "data": {
      "text/html": [
       "<div>\n",
       "<style scoped>\n",
       "    .dataframe tbody tr th:only-of-type {\n",
       "        vertical-align: middle;\n",
       "    }\n",
       "\n",
       "    .dataframe tbody tr th {\n",
       "        vertical-align: top;\n",
       "    }\n",
       "\n",
       "    .dataframe thead th {\n",
       "        text-align: right;\n",
       "    }\n",
       "</style>\n",
       "<table border=\"1\" class=\"dataframe\">\n",
       "  <thead>\n",
       "    <tr style=\"text-align: right;\">\n",
       "      <th>Mission_Status</th>\n",
       "      <th>Failure</th>\n",
       "      <th>Partial Failure</th>\n",
       "      <th>Prelaunch Failure</th>\n",
       "      <th>Success</th>\n",
       "    </tr>\n",
       "    <tr>\n",
       "      <th>Year</th>\n",
       "      <th></th>\n",
       "      <th></th>\n",
       "      <th></th>\n",
       "      <th></th>\n",
       "    </tr>\n",
       "  </thead>\n",
       "  <tbody>\n",
       "    <tr>\n",
       "      <th>1957</th>\n",
       "      <td>1</td>\n",
       "      <td>0</td>\n",
       "      <td>0</td>\n",
       "      <td>2</td>\n",
       "    </tr>\n",
       "    <tr>\n",
       "      <th>1958</th>\n",
       "      <td>14</td>\n",
       "      <td>2</td>\n",
       "      <td>0</td>\n",
       "      <td>6</td>\n",
       "    </tr>\n",
       "    <tr>\n",
       "      <th>1959</th>\n",
       "      <td>9</td>\n",
       "      <td>3</td>\n",
       "      <td>0</td>\n",
       "      <td>8</td>\n",
       "    </tr>\n",
       "    <tr>\n",
       "      <th>1960</th>\n",
       "      <td>19</td>\n",
       "      <td>0</td>\n",
       "      <td>0</td>\n",
       "      <td>19</td>\n",
       "    </tr>\n",
       "    <tr>\n",
       "      <th>1961</th>\n",
       "      <td>17</td>\n",
       "      <td>3</td>\n",
       "      <td>0</td>\n",
       "      <td>32</td>\n",
       "    </tr>\n",
       "    <tr>\n",
       "      <th>...</th>\n",
       "      <td>...</td>\n",
       "      <td>...</td>\n",
       "      <td>...</td>\n",
       "      <td>...</td>\n",
       "    </tr>\n",
       "    <tr>\n",
       "      <th>2016</th>\n",
       "      <td>2</td>\n",
       "      <td>1</td>\n",
       "      <td>1</td>\n",
       "      <td>84</td>\n",
       "    </tr>\n",
       "    <tr>\n",
       "      <th>2017</th>\n",
       "      <td>5</td>\n",
       "      <td>2</td>\n",
       "      <td>0</td>\n",
       "      <td>83</td>\n",
       "    </tr>\n",
       "    <tr>\n",
       "      <th>2018</th>\n",
       "      <td>2</td>\n",
       "      <td>2</td>\n",
       "      <td>0</td>\n",
       "      <td>113</td>\n",
       "    </tr>\n",
       "    <tr>\n",
       "      <th>2019</th>\n",
       "      <td>5</td>\n",
       "      <td>2</td>\n",
       "      <td>0</td>\n",
       "      <td>100</td>\n",
       "    </tr>\n",
       "    <tr>\n",
       "      <th>2020</th>\n",
       "      <td>6</td>\n",
       "      <td>0</td>\n",
       "      <td>0</td>\n",
       "      <td>57</td>\n",
       "    </tr>\n",
       "  </tbody>\n",
       "</table>\n",
       "<p>64 rows × 4 columns</p>\n",
       "</div>"
      ],
      "text/plain": [
       "Mission_Status  Failure  Partial Failure  Prelaunch Failure  Success\n",
       "Year                                                                \n",
       "1957                  1                0                  0        2\n",
       "1958                 14                2                  0        6\n",
       "1959                  9                3                  0        8\n",
       "1960                 19                0                  0       19\n",
       "1961                 17                3                  0       32\n",
       "...                 ...              ...                ...      ...\n",
       "2016                  2                1                  1       84\n",
       "2017                  5                2                  0       83\n",
       "2018                  2                2                  0      113\n",
       "2019                  5                2                  0      100\n",
       "2020                  6                0                  0       57\n",
       "\n",
       "[64 rows x 4 columns]"
      ]
     },
     "execution_count": 45,
     "metadata": {},
     "output_type": "execute_result"
    }
   ],
   "source": [
    "# Creamos la tabla pivot para el Mission_Status\n",
    "data_ms = df.pivot_table(index='Year', columns='Mission_Status', aggfunc='size', fill_value=0)\n",
    "data_ms"
   ]
  },
  {
   "cell_type": "code",
   "execution_count": 46,
   "metadata": {},
   "outputs": [
    {
     "data": {
      "text/plain": [
       "<matplotlib.legend.Legend at 0x2c9068ff2c0>"
      ]
     },
     "execution_count": 46,
     "metadata": {},
     "output_type": "execute_result"
    },
    {
     "data": {
      "image/png": "[encoded data removed]",
      "text/plain": [
       "<Figure size 1000x800 with 1 Axes>"
      ]
     },
     "metadata": {},
     "output_type": "display_data"
    }
   ],
   "source": [
    "# Graficamos el numero de lanzamientos completos, fallidos, fallidos parcialmente y no lanzados\n",
    "plt.figure(figsize = (10,8))\n",
    "plt.plot(data_ms[\"Success\"].index,\n",
    "         data_ms[\"Success\"],\n",
    "         color='g', label='Success')\n",
    "plt.plot(data_ms[\"Failure\"].index,\n",
    "         data_ms[\"Failure\"],\n",
    "         color='r',\n",
    "         label='Failure')\n",
    "plt.plot(data_ms[\"Partial Failure\"].index,\n",
    "         data_ms[\"Partial Failure\"],\n",
    "         color='y', \n",
    "         label='Partial Failure',)\n",
    "plt.plot(data_ms[\"Prelaunch Failure\"].index, \n",
    "         data_ms[\"Prelaunch Failure\"], \n",
    "         color='black', \n",
    "         label='Prelaunch Failure')\n",
    "plt.xlabel(\"Year\")\n",
    "plt.ylabel(\"Number of Launches\")\n",
    "plt.legend()"
   ]
  },
  {
   "cell_type": "code",
   "execution_count": null,
   "metadata": {},
   "outputs": [],
   "source": []
  }
 ],
 "metadata": {
  "kernelspec": {
   "display_name": "Python 3",
   "language": "python",
   "name": "python3"
  },
  "language_info": {
   "codemirror_mode": {
    "name": "ipython",
    "version": 3
   },
   "file_extension": ".py",
   "mimetype": "text/x-python",
   "name": "python",
   "nbconvert_exporter": "python",
   "pygments_lexer": "ipython3",
   "version": "3.12.7"
  }
 },
 "nbformat": 4,
 "nbformat_minor": 2
}
